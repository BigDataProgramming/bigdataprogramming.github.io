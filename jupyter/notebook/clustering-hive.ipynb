{
 "cells": [
  {
   "cell_type": "code",
   "execution_count": 1,
   "id": "8a5fab7d",
   "metadata": {
    "pycharm": {
     "name": "#%%\n"
    }
   },
   "outputs": [
    {
     "name": "stdout",
     "output_type": "stream",
     "text": [
      "Python version: 3.10.12 (main, Nov 20 2023, 15:14:05) [GCC 11.4.0]\n"
     ]
    }
   ],
   "source": [
    "import findspark\n",
    "import sys\n",
    "findspark.init('/opt/spark')\n",
    "print(\"Python version:\", sys.version)"
   ]
  },
  {
   "cell_type": "code",
   "execution_count": 2,
   "id": "52921414",
   "metadata": {
    "pycharm": {
     "name": "#%%\n"
    }
   },
   "outputs": [],
   "source": [
    "from pyspark.sql import SparkSession"
   ]
  },
  {
   "cell_type": "code",
   "execution_count": 3,
   "id": "ef9d4d47",
   "metadata": {
    "pycharm": {
     "name": "#%%\n"
    }
   },
   "outputs": [
    {
     "name": "stderr",
     "output_type": "stream",
     "text": [
      "Setting default log level to \"WARN\".\n",
      "To adjust logging level use sc.setLogLevel(newLevel). For SparkR, use setLogLevel(newLevel).\n"
     ]
    }
   ],
   "source": [
    "spark = SparkSession.builder\\\n",
    "    .enableHiveSupport()\\\n",
    "    .getOrCreate()"
   ]
  },
  {
   "cell_type": "code",
   "execution_count": 4,
   "id": "89bdd09a",
   "metadata": {},
   "outputs": [
    {
     "data": {
      "text/plain": [
       "DataFrame[]"
      ]
     },
     "execution_count": 4,
     "metadata": {},
     "output_type": "execute_result"
    }
   ],
   "source": [
    "spark.sql(\"DROP TABLE IF EXISTS posts\")"
   ]
  },
  {
   "cell_type": "code",
   "execution_count": 5,
   "id": "89a70544",
   "metadata": {},
   "outputs": [
    {
     "name": "stderr",
     "output_type": "stream",
     "text": [
      "                                                                                \r"
     ]
    }
   ],
   "source": [
    "flickrData=spark.read.json(\"hdfs://master/user/custom/allFlickrRome.json\")"
   ]
  },
  {
   "cell_type": "code",
   "execution_count": 6,
   "id": "54d1c9da",
   "metadata": {},
   "outputs": [
    {
     "name": "stderr",
     "output_type": "stream",
     "text": [
      "                                                                                \r"
     ]
    }
   ],
   "source": [
    "# Create Hive Internal table\n",
    "flickrData.write.mode(\"overwrite\").saveAsTable(\"posts\")"
   ]
  },
  {
   "cell_type": "code",
   "execution_count": 7,
   "id": "426d5cda",
   "metadata": {},
   "outputs": [],
   "source": [
    "spark.sql(\"DROP FUNCTION IF EXISTS GeoData\")\n",
    "spark.sql(\"DROP FUNCTION IF EXISTS GeoDbscan\")\n",
    "spark.sql(\"ADD JAR hdfs://master/user/custom/HiveUDF-1.0-SNAPSHOT-jar-with-dependencies.jar\")\n",
    "spark.sql(\"CREATE FUNCTION GeoData AS 'it.unical.dimes.scalab.hive.udf.GeoDataUDF'\");\n",
    "spark.sql(\"CREATE FUNCTION GeoDbscan AS 'it.unical.dimes.scalab.hive.udf.DbScanUDAF'\");"
   ]
  },
  {
   "cell_type": "code",
   "execution_count": 8,
   "id": "33812595",
   "metadata": {},
   "outputs": [],
   "source": [
    "keywords = \"colosseo,colis,collis,collos,Amphiteatrum Flavium,Amphitheatrum Flavium,An Colasaem,Coliseo,Coliseo,Coliseo de Roma,Coliseo de Roma,Coliseu de Roma,Coliseum,Coliseum,Coliseum,Coliseus,Colloseum,Coloseu,Colosseo,Colosseo,Colosseo,Colosseu,Colosseum,Colosseum,Colosseum,Colosseum,Colosseum,Colosseum,Colosseum,Colosseum,Colosseum,Colosseum,Culusseu,Kolezyum,Koliseoa,Kolize,Kolizejs,Kolizey,Kolizey,Koliziejus,Kolosej,Kolosej,Koloseo,Koloseo,Koloseum,Koloseum,Koloseum,Koloseum,Koloseum,Koloseum,Koloseum,Koloseumi,Kolosseum,Kolosseum,Kolosseum,Kolosseum\""
   ]
  },
  {
   "cell_type": "code",
   "execution_count": 9,
   "id": "392a8e8b",
   "metadata": {},
   "outputs": [
    {
     "name": "stderr",
     "output_type": "stream",
     "text": [
      "[Stage 4:>                                                          (0 + 1) / 1]\r"
     ]
    },
    {
     "name": "stdout",
     "output_type": "stream",
     "text": [
      "+-----------------------------------------------------------------------------------------------------------------------------------------------------------------------------------------------------------------------------------------------------------------------------------------------------------------------------------------------------------------------------------------------------------------------------------------------------------------------------------------------------------------------------------------------------------------------+\n",
      "|cluster                                                                                                                                                                                                                                                                                                                                                                                                                                                                                                                                                                |\n",
      "+-----------------------------------------------------------------------------------------------------------------------------------------------------------------------------------------------------------------------------------------------------------------------------------------------------------------------------------------------------------------------------------------------------------------------------------------------------------------------------------------------------------------------------------------------------------------------+\n",
      "|<Placemark><Polygon><outerBoundaryIs><LinearRing><tessellate>0</tessellate><coordinates>41.8867,12.488977,0.0 41.88709,12.488043,0.0 41.88752,12.487291,0.0 41.8882,12.486144,0.0 41.892902,12.481262,0.0 41.8945,12.481202,0.0 41.89656,12.481155,0.0 41.89656,12.481155,0.0 41.89678,12.48212,0.0 41.89691,12.482839,0.0 41.896687,12.485758,0.0 41.89233,12.496497,0.0 41.891624,12.497506,0.0 41.890076,12.497978,0.0 41.88875,12.496712,0.0 41.888138,12.495585,0.0 41.88734,12.493665,0.0 </coordinates></LinearRing></outerBoundaryIs></Polygon></Placemark>null|\n",
      "+-----------------------------------------------------------------------------------------------------------------------------------------------------------------------------------------------------------------------------------------------------------------------------------------------------------------------------------------------------------------------------------------------------------------------------------------------------------------------------------------------------------------------------------------------------------------------+\n",
      "\n"
     ]
    },
    {
     "name": "stderr",
     "output_type": "stream",
     "text": [
      "                                                                                \r"
     ]
    }
   ],
   "source": [
    "spark.sql(\"SELECT GeoDbscan(longitude, latitude, 150, 50) AS cluster FROM posts WHERE \\\n",
    "          GeoData(description,'\"+keywords+\"') IS NOT NULL AND latitude > 0 AND longitude > 0\").show(truncate=False)"
   ]
  }
 ],
 "metadata": {
  "kernelspec": {
   "display_name": "Python 3 (ipykernel)",
   "language": "python",
   "name": "python3"
  },
  "language_info": {
   "codemirror_mode": {
    "name": "ipython",
    "version": 3
   },
   "file_extension": ".py",
   "mimetype": "text/x-python",
   "name": "python",
   "nbconvert_exporter": "python",
   "pygments_lexer": "ipython3",
   "version": "3.10.12"
  }
 },
 "nbformat": 4,
 "nbformat_minor": 5
}
