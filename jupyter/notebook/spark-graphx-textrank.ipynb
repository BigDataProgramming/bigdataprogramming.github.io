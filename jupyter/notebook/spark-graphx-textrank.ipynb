{
 "cells": [
  {
   "cell_type": "code",
   "execution_count": 32,
   "id": "de7cc351-a8ac-4ae8-b2f2-014b58726022",
   "metadata": {},
   "outputs": [
    {
     "name": "stdout",
     "output_type": "stream",
     "text": [
      "SUMMARY:\n",
      "An ANN is based on a collection of connected units or nodes called artificial neurons, which loosely model the neurons in a biological brain.\n",
      "The signal at a connection is a real number, and the output of each neuron is computed by some non-linear function of the sum of its inputs.\n",
      "The training of a neural network from a given example is usually conducted by determining the difference between the processed output of the network (often a prediction) and a target output."
     ]
    },
    {
     "data": {
      "text/plain": [
       "import org.apache.spark.sql.SparkSession\n",
       "import org.apache.spark._\n",
       "import org.apache.spark.graphx.{Graph, _}\n",
       "import org.apache.spark.rdd.RDD\n",
       "import scala.math.log\n",
       "import org.apache.spark.SparkConf\n",
       "sparkMaster: String = spark://master:7077\n",
       "conf: org.apache.spark.SparkConf = org.apache.spark.SparkConf@6ca234f8\n",
       "spark: org.apache.spark.sql.SparkSession = org.apache.spark.sql.SparkSession@7d0981a4\n",
       "sentenceSimilarity: (sentence1: String, sentence2: String)Double\n",
       "path: String = hdfs://master/user/custom/graphx-mpi/ANN.txt\n",
       "input_sentences: org.apache.spark.rdd.RDD[String] = MapPartitionsRDD[4478] at flatMap at <console>:128\n",
       "vertices: org.apache.spark.rdd.RDD[(Long, String)] = MapPartitionsRDD[4480] at map at <console>:129\n",
       "pairs: org.apache.spark.rdd.RDD[org.apache.spark.graphx.Edge[Double]] = M...\n"
      ]
     },
     "execution_count": 32,
     "metadata": {},
     "output_type": "execute_result"
    }
   ],
   "source": [
    "import org.apache.spark.sql.SparkSession\n",
    "import org.apache.spark._\n",
    "import org.apache.spark.graphx.{Graph, _}\n",
    "import org.apache.spark.rdd.RDD\n",
    "import scala.math.log\n",
    "import org.apache.spark.SparkConf\n",
    "    \n",
    "//Create Spark session\n",
    "val sparkMaster = \"spark://master:7077\"\n",
    "var conf = new SparkConf().setAppName(\"GraphX TextRank\").setMaster(sparkMaster)\n",
    "val spark = SparkSession.builder.getOrCreate()\n",
    "\n",
    "// define sentence similarity score\n",
    "def sentenceSimilarity(sentence1: String, sentence2: String): Double = {\n",
    "    val words1 = sentence1.split(\"[\\\\s,.;:?!]+\").map(_.toLowerCase).toSet\n",
    "    val words2 = sentence2.split(\"[\\\\s,.;:?!]+\").map(_.toLowerCase).toSet\n",
    "    val commonWords = words1.intersect(words2).size\n",
    "    commonWords.toDouble / (log(words1.size + 1) + log(words2.size + 1) + 1)\n",
    "}\n",
    "\n",
    "// build sentence graph\n",
    "val path = \"hdfs://master/user/custom/graphx-mpi/ANN.txt\"\n",
    "val input_sentences = spark.sparkContext.textFile(path).flatMap(line => line.split('.'))\n",
    "val vertices = input_sentences.zipWithIndex.map {\n",
    "  case (sentence, index) => (index, sentence)\n",
    "}\n",
    "val pairs = vertices.cartesian(vertices)\n",
    "  .filter { case ((i1, _), (i2, _)) => i1 != i2 }\n",
    "  .map { case ((i1, s1), (i2, s2)) => (i1, i2, sentenceSimilarity(s1, s2)) }\n",
    "  .map { case (i1, i2, sim) => Edge(i1, i2, sim) }\n",
    "val graph = Graph(vertices, pairs)\n",
    "\n",
    "// normalize weighted graph\n",
    "val outgoingEdgesSum = graph.aggregateMessages[Double](\n",
    "  ctx => ctx.sendToSrc(ctx.attr),\n",
    "  (a, b) => a + b,\n",
    "  TripletFields.EdgeOnly\n",
    ").collect.toMap\n",
    "val normEdges = graph.edges.map(e => {\n",
    "  val srcSum = outgoingEdgesSum.getOrElse(e.srcId,1.0)\n",
    "  val newWeight = e.attr / srcSum\n",
    "  Edge(e.srcId, e.dstId, newWeight)\n",
    "})\n",
    "val initialGuess = 1.0\n",
    "val preparedGraph = Graph(vertices, normEdges)\n",
    "  .mapVertices((_, attr) => initialGuess)\n",
    "\n",
    "// Define Pregel's UDFs for PageRank\n",
    "val d = 0.85\n",
    "val numVertices = preparedGraph.numVertices\n",
    "def vertexProgram(id: VertexId, attr: Double, msgSum: Double): Double =\n",
    "  (1 - d) / numVertices + d * msgSum\n",
    "\n",
    "def sendMessage(edge: EdgeTriplet[Double, Double]): Iterator[(VertexId, Double)] =\n",
    "  Iterator((edge.dstId, edge.srcAttr * edge.attr))\n",
    "\n",
    "def messageCombiner(a: Double, b: Double): Double = a + b\n",
    "\n",
    "// Execute Pregel for a fixed number of iterations.\n",
    "val rankGraph = Pregel(graph = preparedGraph, initialMsg = 0.0, maxIterations = 50)(\n",
    "  vprog = vertexProgram, sendMsg = sendMessage, mergeMsg = messageCombiner)\n",
    "\n",
    "/* extract summary: the summary is composed of the top 3 sentences per PageRank ordered according to how they appear in the original text.\n",
    " */\n",
    "val summary = graph.vertices.join(rankGraph.vertices)\n",
    "  .map { case (id, (sentence, rank)) => (id, sentence, rank) }\n",
    "  .top(3)(Ordering.by(_._3)).sortBy(_._1)\n",
    "  .map { case (_, sentence, _) => sentence }\n",
    "  .mkString(\".\\n\") + \".\"\n",
    "\n",
    "print(\"SUMMARY:\\n\" + summary)"
   ]
  },
  {
   "cell_type": "code",
   "execution_count": null,
   "id": "b11ab37e-b474-499a-a701-0520c5092cb2",
   "metadata": {},
   "outputs": [],
   "source": []
  }
 ],
 "metadata": {
  "kernelspec": {
   "display_name": "spylon-kernel",
   "language": "scala",
   "name": "spylon-kernel"
  },
  "language_info": {
   "codemirror_mode": "text/x-scala",
   "file_extension": ".scala",
   "help_links": [
    {
     "text": "MetaKernel Magics",
     "url": "https://metakernel.readthedocs.io/en/latest/source/README.html"
    }
   ],
   "mimetype": "text/x-scala",
   "name": "scala",
   "pygments_lexer": "scala",
   "version": "0.4.1"
  }
 },
 "nbformat": 4,
 "nbformat_minor": 5
}
